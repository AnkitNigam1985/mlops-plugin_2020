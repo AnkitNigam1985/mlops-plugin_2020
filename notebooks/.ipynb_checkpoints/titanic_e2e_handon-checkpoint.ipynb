{
 "cells": [
  {
   "cell_type": "markdown",
   "metadata": {},
   "source": [
    "# Library \n"
   ]
  },
  {
   "cell_type": "code",
   "execution_count": 1,
   "metadata": {},
   "outputs": [],
   "source": [
    "#library\n",
    "import pandas as pd\n",
    "import seaborn as sns\n",
    "import matplotlib.pyplot as plt\n",
    "%matplotlib inline\n",
    "\n",
    "import numpy as np\n",
    "import random as rnd\n",
    "\n",
    "from sklearn import svm, tree, linear_model, neighbors, naive_bayes, ensemble, discriminant_analysis, gaussian_process\n",
    "from xgboost import XGBClassifier\n",
    "\n",
    "#Common Model Helpers\n",
    "from sklearn.preprocessing import OneHotEncoder, LabelEncoder\n",
    "from sklearn import feature_selection\n",
    "from sklearn import model_selection\n",
    "from sklearn import metrics\n",
    "\n",
    "#Visualization\n",
    "import matplotlib as mpl\n",
    "import matplotlib.pyplot as plt\n",
    "import matplotlib.pylab as pylab\n",
    "import seaborn as sns\n",
    "from pandas.plotting import scatter_matrix\n",
    "\n",
    "# Importing Models\n",
    "from sklearn import svm, tree, linear_model, neighbors, naive_bayes, ensemble, discriminant_analysis, gaussian_process\n",
    "\n",
    "from sklearn.linear_model import LogisticRegression\n",
    "from sklearn.tree import DecisionTreeClassifier\n",
    "from sklearn.discriminant_analysis import LinearDiscriminantAnalysis\n",
    "from sklearn.ensemble import AdaBoostClassifier, RandomForestClassifier, GradientBoostingClassifier\n",
    "from sklearn.neighbors import KNeighborsClassifier\n",
    "from sklearn.svm import SVC, LinearSVC\n",
    "from xgboost import XGBClassifier\n",
    "from lightgbm import LGBMClassifier\n",
    "\n",
    "# Importing other tools\n",
    "from sklearn import model_selection\n",
    "from sklearn.metrics import confusion_matrix, classification_report, make_scorer\n",
    "from sklearn.metrics import accuracy_score, recall_score, precision_recall_curve\n",
    "from sklearn.model_selection import StratifiedKFold, cross_validate\n",
    "from sklearn.preprocessing import StandardScaler\n",
    "from sklearn.pipeline import Pipeline\n",
    "from sklearn.calibration import CalibratedClassifierCV\n",
    "import warnings"
   ]
  },
  {
   "cell_type": "code",
   "execution_count": null,
   "metadata": {},
   "outputs": [],
   "source": []
  },
  {
   "cell_type": "markdown",
   "metadata": {},
   "source": [
    "# Pre-Process data"
   ]
  },
  {
   "cell_type": "code",
   "execution_count": 2,
   "metadata": {},
   "outputs": [],
   "source": [
    "# loading local functions\n",
    "from src.features.build_features import prep_process"
   ]
  },
  {
   "cell_type": "code",
   "execution_count": 3,
   "metadata": {},
   "outputs": [
    {
     "name": "stderr",
     "output_type": "stream",
     "text": [
      "<>:1: DeprecationWarning: invalid escape sequence \\m\n",
      "<>:1: DeprecationWarning: invalid escape sequence \\m\n",
      "<>:1: DeprecationWarning: invalid escape sequence \\m\n",
      "<ipython-input-3-7cdce46e39a1>:1: DeprecationWarning: invalid escape sequence \\m\n",
      "  data = pd.read_csv(\"C:\\mlops_plugin\\src\\data\\data.csv\")\n"
     ]
    }
   ],
   "source": [
    "data = pd.read_csv(\"C:\\mlops_plugin\\src\\data\\data.csv\")"
   ]
  },
  {
   "cell_type": "code",
   "execution_count": 4,
   "metadata": {},
   "outputs": [],
   "source": [
    "import mlflow\n",
    "mlflow.set_tracking_uri(\"http://kubernetes.docker.internal:5000/\") "
   ]
  },
  {
   "cell_type": "code",
   "execution_count": 5,
   "metadata": {},
   "outputs": [],
   "source": [
    "exp_name = \"Pre_Process\"\n",
    "mlflow.set_experiment(exp_name)"
   ]
  },
  {
   "cell_type": "code",
   "execution_count": 6,
   "metadata": {},
   "outputs": [],
   "source": [
    "x_train,x_test,y_train,y_test = prep_process(data)"
   ]
  },
  {
   "cell_type": "code",
   "execution_count": null,
   "metadata": {},
   "outputs": [],
   "source": [
    "x_train.head()"
   ]
  },
  {
   "cell_type": "code",
   "execution_count": 8,
   "metadata": {},
   "outputs": [],
   "source": [
    "# loading local functions\n",
    "from src.models.base_model import BaseModellingHelper"
   ]
  },
  {
   "cell_type": "code",
   "execution_count": 9,
   "metadata": {},
   "outputs": [
    {
     "ename": "NameError",
     "evalue": "name 'warnings' is not defined",
     "output_type": "error",
     "traceback": [
      "\u001b[1;31m---------------------------------------------------------------------------\u001b[0m",
      "\u001b[1;31mNameError\u001b[0m                                 Traceback (most recent call last)",
      "\u001b[1;32m<ipython-input-9-f29c4f3d5c03>\u001b[0m in \u001b[0;36m<module>\u001b[1;34m\u001b[0m\n\u001b[0;32m      8\u001b[0m   \u001b[1;34m'scoring'\u001b[0m\u001b[1;33m:\u001b[0m\u001b[1;34m'f1'\u001b[0m\u001b[1;33m,\u001b[0m\u001b[1;33m\u001b[0m\u001b[1;33m\u001b[0m\u001b[0m\n\u001b[0;32m      9\u001b[0m   \u001b[1;34m'Split_type'\u001b[0m\u001b[1;33m:\u001b[0m \u001b[1;34m'ShuffleSplit'\u001b[0m\u001b[1;33m,\u001b[0m\u001b[1;33m\u001b[0m\u001b[1;33m\u001b[0m\u001b[0m\n\u001b[1;32m---> 10\u001b[1;33m   \u001b[1;34m'warning'\u001b[0m\u001b[1;33m:\u001b[0m \u001b[0mwarnings\u001b[0m\u001b[1;33m.\u001b[0m\u001b[0mfilterwarnings\u001b[0m\u001b[1;33m(\u001b[0m\u001b[1;34m'ignore'\u001b[0m\u001b[1;33m)\u001b[0m\u001b[1;33m,\u001b[0m\u001b[1;33m\u001b[0m\u001b[1;33m\u001b[0m\u001b[0m\n\u001b[0m\u001b[0;32m     11\u001b[0m   \u001b[1;34m'normalize'\u001b[0m\u001b[1;33m:\u001b[0m \u001b[1;32mTrue\u001b[0m\u001b[1;33m\u001b[0m\u001b[1;33m\u001b[0m\u001b[0m\n\u001b[0;32m     12\u001b[0m       \u001b[1;31m#StratifiedKFold() - StratifiedKFold\u001b[0m\u001b[1;33m\u001b[0m\u001b[1;33m\u001b[0m\u001b[1;33m\u001b[0m\u001b[0m\n",
      "\u001b[1;31mNameError\u001b[0m: name 'warnings' is not defined"
     ]
    }
   ],
   "source": [
    "basic_params = {\n",
    "  'seed':123,\n",
    "  'folds': 10,\n",
    "  'test_size': 0.3,\n",
    "  'train_size': 0.7,\n",
    "  'n_jobs':-1,\n",
    "  'verbose':3,\n",
    "  'scoring':'f1',   \n",
    "  'Split_type': 'ShuffleSplit',\n",
    "  'warning': warnings.filterwarnings('ignore'),\n",
    "  'normalize': True\n",
    "      #StratifiedKFold() - StratifiedKFold\n",
    "      #KFold() - KFold\n",
    "  \n",
    "}\n",
    "\n",
    "base_model = {\n",
    "    'AdaBoostClassifier': AdaBoostClassifier(),\n",
    "    'BaggingClassifier':BaggingClassifier(),\n",
    "    'ExtraTreesClassifier':ExtraTreesClassifier(),\n",
    "    'GradientBoostingClassifier':GradientBoostingClassifier(),\n",
    "    'RandomForestClassifier':RandomForestClassifier(),\n",
    "    'GaussianProcessClassifier':gaussian_process.GaussianProcessClassifier(),\n",
    "    'LogisticRegressionCV':linear_model.LogisticRegressionCV(),\n",
    "    'PassiveAggressiveClassifier':linear_model.PassiveAggressiveClassifier(),\n",
    "    'RidgeClassifierCV':linear_model.RidgeClassifierCV(),\n",
    "    'SGDClassifier':linear_model.SGDClassifier(),\n",
    "    'Perceptron':linear_model.Perceptron(),\n",
    "    'BernoulliNB':naive_bayes.BernoulliNB(),\n",
    "    'GaussianNB':naive_bayes.GaussianNB(),\n",
    "    'KNeighborsClassifier':KNeighborsClassifier(),\n",
    "    'SVC':svm.SVC(probability=True),\n",
    "    'NuSVC':svm.NuSVC(probability=True),\n",
    "    'LinearSVC':svm.LinearSVC(),\n",
    "    'DecisionTreeClassifier':DecisionTreeClassifier(),\n",
    "    'LinearDiscriminantAnalysis':discriminant_analysis.LinearDiscriminantAnalysis(),\n",
    "    'QuadraticDiscriminantAnalysis':discriminant_analysis.QuadraticDiscriminantAnalysis(),\n",
    "    'XGBClassifier':XGBClassifier(),\n",
    "    'LGBMClassifier':LGBMClassifier()   \n",
    "    \n",
    "}\n"
   ]
  },
  {
   "cell_type": "code",
   "execution_count": null,
   "metadata": {},
   "outputs": [],
   "source": [
    "ModelObject = BaseModellingHelper(basic_params,base_model)"
   ]
  }
 ],
 "metadata": {
  "kernelspec": {
   "display_name": "Python 3",
   "language": "python",
   "name": "python3"
  },
  "language_info": {
   "codemirror_mode": {
    "name": "ipython",
    "version": 3
   },
   "file_extension": ".py",
   "mimetype": "text/x-python",
   "name": "python",
   "nbconvert_exporter": "python",
   "pygments_lexer": "ipython3",
   "version": "3.7.7"
  }
 },
 "nbformat": 4,
 "nbformat_minor": 4
}
