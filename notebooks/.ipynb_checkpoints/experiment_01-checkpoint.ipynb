{
 "cells": [
  {
   "cell_type": "code",
   "execution_count": 1,
   "metadata": {},
   "outputs": [],
   "source": [
    "from interpret import show\n",
    "\n",
    "ebm_global = ebm.explain_global()\n",
    "show(ebm_global)import pandas as pd \n",
    "from sklearn.model_selection import train_test_split\n",
    "import numpy as np\n",
    "from sklearn.feature_extraction.text import TfidfVectorizer\n",
    "from sklearn.linear_model import LogisticRegression\n",
    "from seldon_core.seldon_client import SeldonClient\n",
    "import dill\n",
    "import sys, os\n",
    "import xai\n",
    "\n",
    "pd.set_option(\"display.notebook_repr_html\", False)"
   ]
  },
  {
   "cell_type": "code",
   "execution_count": 12,
   "metadata": {},
   "outputs": [],
   "source": [
    "import spacy\n",
    "from spacy.cli import download\n",
    "import re\n",
    "import numpy as np\n",
    "from sklearn.base import TransformerMixin\n",
    "from html.parser import HTMLParser\n",
    "import dill\n",
    "import sys, os"
   ]
  },
  {
   "cell_type": "code",
   "execution_count": 7,
   "metadata": {},
   "outputs": [
    {
     "data": {
      "text/plain": [
       "<spacy.lang.en.English at 0x2aec4c28488>"
      ]
     },
     "execution_count": 7,
     "metadata": {},
     "output_type": "execute_result"
    }
   ],
   "source": [
    "import spacy\n",
    "spacy.load(\"en_core_web_sm\")"
   ]
  },
  {
   "cell_type": "code",
   "execution_count": 8,
   "metadata": {},
   "outputs": [],
   "source": [
    "df = pd.read_csv(\"https://raw.githubusercontent.com/axsaucedo/datasets/master/data/research_paper_abstracts.csv\")"
   ]
  },
  {
   "cell_type": "code",
   "execution_count": 9,
   "metadata": {},
   "outputs": [
    {
     "data": {
      "text/plain": [
       "                                               abstract  is_covid\n",
       "3995  This article summarizes current knowledge abou...         1\n",
       "3996  While epidemiological models have traditionall...         1\n",
       "3997  TGEV and PEDV are porcine coronaviruses with t...         1\n",
       "3998  Metagenomics, i.e., the sequencing and analysi...         1\n",
       "3999  Population genetic diversity plays a prominent...         1"
      ]
     },
     "execution_count": 9,
     "metadata": {},
     "output_type": "execute_result"
    }
   ],
   "source": [
    "df.tail()"
   ]
  },
  {
   "cell_type": "code",
   "execution_count": 10,
   "metadata": {},
   "outputs": [
    {
     "data": {
      "text/plain": [
       "<matplotlib.axes._subplots.AxesSubplot at 0x2aec4977d48>"
      ]
     },
     "execution_count": 10,
     "metadata": {},
     "output_type": "execute_result"
    },
    {
     "data": {
      "image/png": "[encoded data removed]",
      "text/plain": [
       "<Figure size 432x288 with 1 Axes>"
      ]
     },
     "metadata": {
      "needs_background": "light"
     },
     "output_type": "display_data"
    }
   ],
   "source": [
    "df[\"is_covid\"].value_counts().plot.bar()"
   ]
  },
  {
   "cell_type": "code",
   "execution_count": 11,
   "metadata": {},
   "outputs": [],
   "source": [
    "x = df[\"abstract\"].values\n",
    "y = df[\"is_covid\"].values\n",
    "x_train, x_test, y_train, y_test = train_test_split(\n",
    "    x, y, \n",
    "    stratify=y, \n",
    "    random_state=42, \n",
    "    test_size=0.1, shuffle=True)"
   ]
  },
  {
   "cell_type": "code",
   "execution_count": 13,
   "metadata": {},
   "outputs": [],
   "source": [
    "nlp = spacy.load(\"en_core_web_sm\", parser=False, entity=False)"
   ]
  },
  {
   "cell_type": "code",
   "execution_count": 14,
   "metadata": {},
   "outputs": [],
   "source": [
    "class SpacyTokenTransformer(TransformerMixin):\n",
    "    __symbols = set(\"!$%^&*()_+|~-=`{}[]:\\\";'<>?,./-\")\n",
    "\n",
    "    def transform(self, X, **kwargs):\n",
    "        f = np.vectorize(SpacyTokenTransformer.transform_to_token, otypes=[object])\n",
    "        X_tokenized = f(X)\n",
    "        return X_tokenized\n",
    "\n",
    "    def fit(self, X, y=None, **fit_params):\n",
    "        return self\n",
    "\n",
    "    @staticmethod\n",
    "    def transform_to_token(text):\n",
    "        str_text = str(text)\n",
    "        doc = nlp(str_text, disable=[\"parser\", \"tagger\", \"ner\"])\n",
    "        tokens = []\n",
    "        for token in doc:\n",
    "            if token.like_url:\n",
    "                clean_token = \"URL\"\n",
    "            else:\n",
    "                clean_token = token.lemma_.lower().strip()\n",
    "                if (\n",
    "                    len(clean_token) < 1\n",
    "                    or clean_token in SpacyTokenTransformer.__symbols\n",
    "                ):\n",
    "                    continue\n",
    "            tokens.append(clean_token)\n",
    "        return tokens"
   ]
  },
  {
   "cell_type": "code",
   "execution_count": 15,
   "metadata": {},
   "outputs": [],
   "source": [
    "class CleanTextTransformer(TransformerMixin):\n",
    "    __html_parser = HTMLParser()\n",
    "    __uplus_pattern = re.compile(\"\\<[uU]\\+(?P<digit>[a-zA-Z0-9]+)\\>\")\n",
    "    __markup_link_pattern = re.compile(\"\\[(.*)\\]\\((.*)\\)\")\n",
    "\n",
    "    def transform(self, X, **kwargs):\n",
    "        f = np.vectorize(CleanTextTransformer.transform_clean_text)\n",
    "        X_clean = f(X)\n",
    "        return X_clean\n",
    "\n",
    "    def fit(self, X, y=None, **fit_params):\n",
    "        return self\n",
    "\n",
    "    @staticmethod\n",
    "    def transform_clean_text(raw_text):\n",
    "        html_unescaped = CleanTextTransformer.__html_parser.unescape(raw_text)\n",
    "        html_unescaped = re.sub(r\"\\r\\n\", \" \", html_unescaped)\n",
    "        html_unescaped = re.sub(r\"\\r\\r\\n\", \" \", html_unescaped)\n",
    "        html_unescaped = re.sub(r\"\\r\", \" \", html_unescaped)\n",
    "        html_unescaped = html_unescaped.replace(\"&gt;\", \" > \")\n",
    "        html_unescaped = html_unescaped.replace(\"&lt;\", \" < \")\n",
    "        html_unescaped = html_unescaped.replace(\"--\", \" - \")\n",
    "        html_unescaped = CleanTextTransformer.__uplus_pattern.sub(\n",
    "            \" U\\g<digit> \", html_unescaped\n",
    "        )\n",
    "        html_unescaped = CleanTextTransformer.__markup_link_pattern.sub(\n",
    "            \" \\1 \\2 \", html_unescaped\n",
    "        )\n",
    "        html_unescaped = html_unescaped.replace(\"\\\\\", \"\")\n",
    "        return html_unescaped"
   ]
  },
  {
   "cell_type": "code",
   "execution_count": 16,
   "metadata": {},
   "outputs": [
    {
     "name": "stderr",
     "output_type": "stream",
     "text": [
      "C:\\Users\\lnigam\\AppData\\Local\\Continuum\\anaconda3\\envs\\mlops_exp1\\lib\\site-packages\\ipykernel_launcher.py:16: DeprecationWarning: The unescape method is deprecated and will be removed in 3.5, use html.unescape() instead.\n",
      "  app.launch_new_instance()\n"
     ]
    }
   ],
   "source": [
    "# Clean the text\n",
    "clean_text_transformer = CleanTextTransformer()\n",
    "x_train_clean = clean_text_transformer.transform(x_train)"
   ]
  },
  {
   "cell_type": "code",
   "execution_count": 17,
   "metadata": {},
   "outputs": [],
   "source": [
    "# Tokenize the text and get the lemmas\n",
    "spacy_tokenizer = SpacyTokenTransformer()\n",
    "x_train_tokenized = spacy_tokenizer.transform(x_train_clean)"
   ]
  },
  {
   "cell_type": "code",
   "execution_count": 18,
   "metadata": {},
   "outputs": [
    {
     "data": {
      "text/plain": [
       "TfidfVectorizer(max_features=10000, ngram_range=(1, 3),\n",
       "                preprocessor=<function <lambda> at 0x000002AECFE1DA68>,\n",
       "                token_pattern=None,\n",
       "                tokenizer=<function <lambda> at 0x000002AECFE1DAF8>)"
      ]
     },
     "execution_count": 18,
     "metadata": {},
     "output_type": "execute_result"
    }
   ],
   "source": [
    "# Build tfidf vectorizer\n",
    "tfidf_vectorizer = TfidfVectorizer(\n",
    "    max_features=10000,\n",
    "    preprocessor=lambda x: x, \n",
    "    tokenizer=lambda x: x, \n",
    "    token_pattern=None,\n",
    "    ngram_range=(1, 3))\n",
    "\n",
    "tfidf_vectorizer.fit(x_train_tokenized)"
   ]
  },
  {
   "cell_type": "code",
   "execution_count": 19,
   "metadata": {},
   "outputs": [],
   "source": [
    "x_train_tfidf = tfidf_vectorizer.transform(\n",
    "    x_train_tokenized)"
   ]
  },
  {
   "cell_type": "code",
   "execution_count": 20,
   "metadata": {},
   "outputs": [
    {
     "data": {
      "text/plain": [
       "LogisticRegression(C=0.1, solver='sag')"
      ]
     },
     "execution_count": 20,
     "metadata": {},
     "output_type": "execute_result"
    }
   ],
   "source": [
    "# Train logistic regression classifier\n",
    "lr = LogisticRegression(C=0.1, solver='sag')\n",
    "lr.fit(x_train_tfidf, y_train)"
   ]
  },
  {
   "cell_type": "code",
   "execution_count": 21,
   "metadata": {},
   "outputs": [
    {
     "name": "stdout",
     "output_type": "stream",
     "text": [
      "['We report theoretical and simulation studies of phase coexistence in model globular protein solutions, based on short-range, central, pair potential representations of the interaction among macro-particles. After reviewing our previous investigations of hard-core Yukawa and generalised Lennard-Jones potentials, we report more recent results obtained within a DLVO-like description of lysozyme solutions in water and added salt. We show that a one-parameter fit of this model based on Static Light Scattering and Self-Interaction Chromatography data in the dilute protein regime, yields demixing and crystallization curves in good agreement with experimental protein-rich/protein-poor and solubility envelopes. The dependence of cloud and solubility points temperature of the model on the ionic strength is also investigated. Our findings highlight the minimal assumptions on the properties of the microscopic interaction sufficient for a satisfactory reproduction of the phase diagram topology of globular protein solutions.']\n",
      "Expected class: [0]\n",
      "Predicted class: [0]\n"
     ]
    },
    {
     "name": "stderr",
     "output_type": "stream",
     "text": [
      "C:\\Users\\lnigam\\AppData\\Local\\Continuum\\anaconda3\\envs\\mlops_exp1\\lib\\site-packages\\ipykernel_launcher.py:16: DeprecationWarning: The unescape method is deprecated and will be removed in 3.5, use html.unescape() instead.\n",
      "  app.launch_new_instance()\n"
     ]
    }
   ],
   "source": [
    "def predict_fn(x):\n",
    "    x_c = clean_text_transformer.transform(x)\n",
    "    x_s = spacy_tokenizer.transform(x_c)\n",
    "    x_t = tfidf_vectorizer.transform(x_s)\n",
    "    return lr.predict(x_t)\n",
    "\n",
    "print(x_test[0:1])\n",
    "print(f\"Expected class: {y_test[0:1]}\")\n",
    "print(f\"Predicted class: {predict_fn(x_test[0:1])}\")"
   ]
  },
  {
   "cell_type": "code",
   "execution_count": 22,
   "metadata": {},
   "outputs": [
    {
     "name": "stderr",
     "output_type": "stream",
     "text": [
      "C:\\Users\\lnigam\\AppData\\Local\\Continuum\\anaconda3\\envs\\mlops_exp1\\lib\\site-packages\\ipykernel_launcher.py:16: DeprecationWarning: The unescape method is deprecated and will be removed in 3.5, use html.unescape() instead.\n",
      "  app.launch_new_instance()\n"
     ]
    }
   ],
   "source": [
    "pred = predict_fn(x_test)"
   ]
  },
  {
   "cell_type": "code",
   "execution_count": 23,
   "metadata": {},
   "outputs": [
    {
     "data": {
      "text/plain": [
       "               target\n",
       "precision    0.994898\n",
       "recall       0.975000\n",
       "specificity  0.995000\n",
       "accuracy     0.985000\n",
       "auc          0.985000\n",
       "f1           0.984848"
      ]
     },
     "execution_count": 23,
     "metadata": {},
     "output_type": "execute_result"
    },
    {
     "data": {
      "image/png": "[encoded data removed]",
      "text/plain": [
       "<Figure size 1440x360 with 1 Axes>"
      ]
     },
     "metadata": {
      "needs_background": "light"
     },
     "output_type": "display_data"
    }
   ],
   "source": [
    "xai.metrics_plot(y_test, pred)"
   ]
  },
  {
   "cell_type": "code",
   "execution_count": 24,
   "metadata": {},
   "outputs": [],
   "source": [
    "import spacy\n",
    "import alibi\n",
    "\n",
    "nlp = spacy.load(\"en_core_web_sm\", parser=False, entity=False)"
   ]
  },
  {
   "cell_type": "code",
   "execution_count": 25,
   "metadata": {},
   "outputs": [
    {
     "name": "stderr",
     "output_type": "stream",
     "text": [
      "The unescape method is deprecated and will be removed in 3.5, use html.unescape() instead.\n"
     ]
    }
   ],
   "source": [
    "explainer = alibi.explainers.AnchorText(nlp, predict_fn)"
   ]
  },
  {
   "cell_type": "code",
   "execution_count": 26,
   "metadata": {},
   "outputs": [
    {
     "data": {
      "text/plain": [
       "'The modifiable areal unit problem, MAUP, is ever-present although not always appreciated. Through real examples, this article outlines the basic causes of MAUP, namely changes in the size, shape, and/or orientation of spatial categories/polygons used to map areal data. The visual effects of changes to mapped data are obvious even though the impacts on our understanding of the world are profound. The article concludes with a discussion of technical and broader strategic approaches for confronting the effects of MAUP on our treatment and interpretation of areal data.'"
      ]
     },
     "execution_count": 26,
     "metadata": {},
     "output_type": "execute_result"
    }
   ],
   "source": [
    "x_explain = x_test[1]\n",
    "x_explain"
   ]
  },
  {
   "cell_type": "code",
   "execution_count": 27,
   "metadata": {},
   "outputs": [
    {
     "name": "stderr",
     "output_type": "stream",
     "text": [
      "The unescape method is deprecated and will be removed in 3.5, use html.unescape() instead.\n",
      "The unescape method is deprecated and will be removed in 3.5, use html.unescape() instead.\n",
      "The unescape method is deprecated and will be removed in 3.5, use html.unescape() instead.\n",
      "The unescape method is deprecated and will be removed in 3.5, use html.unescape() instead.\n",
      "The unescape method is deprecated and will be removed in 3.5, use html.unescape() instead.\n",
      "The unescape method is deprecated and will be removed in 3.5, use html.unescape() instead.\n",
      "The unescape method is deprecated and will be removed in 3.5, use html.unescape() instead.\n",
      "The unescape method is deprecated and will be removed in 3.5, use html.unescape() instead.\n",
      "The unescape method is deprecated and will be removed in 3.5, use html.unescape() instead.\n",
      "The unescape method is deprecated and will be removed in 3.5, use html.unescape() instead.\n",
      "The unescape method is deprecated and will be removed in 3.5, use html.unescape() instead.\n",
      "The unescape method is deprecated and will be removed in 3.5, use html.unescape() instead.\n",
      "The unescape method is deprecated and will be removed in 3.5, use html.unescape() instead.\n",
      "The unescape method is deprecated and will be removed in 3.5, use html.unescape() instead.\n",
      "The unescape method is deprecated and will be removed in 3.5, use html.unescape() instead.\n",
      "The unescape method is deprecated and will be removed in 3.5, use html.unescape() instead.\n",
      "The unescape method is deprecated and will be removed in 3.5, use html.unescape() instead.\n",
      "The unescape method is deprecated and will be removed in 3.5, use html.unescape() instead.\n",
      "The unescape method is deprecated and will be removed in 3.5, use html.unescape() instead.\n",
      "The unescape method is deprecated and will be removed in 3.5, use html.unescape() instead.\n",
      "The unescape method is deprecated and will be removed in 3.5, use html.unescape() instead.\n",
      "The unescape method is deprecated and will be removed in 3.5, use html.unescape() instead.\n"
     ]
    }
   ],
   "source": [
    "explanation = explainer.explain(x_explain, threshold=0.95, use_unk=True)"
   ]
  },
  {
   "cell_type": "code",
   "execution_count": 28,
   "metadata": {},
   "outputs": [
    {
     "name": "stdout",
     "output_type": "stream",
     "text": [
      "Anchor: The\n",
      "Precision: 0.96\n",
      "\n",
      "Original Sample:\n",
      "The modifiable areal unit problem, MAUP, is ever-present although not always appreciated. Through real examples, this article outlines the basic causes of MAUP, namely changes in the size, shape, and/or orientation of spatial categories/polygons used to map areal data. The visual effects of changes to mapped data are obvious even though the impacts on our understanding of the world are profound. The article concludes with a discussion of technical and broader strategic approaches for confronting the effects of MAUP on our treatment and interpretation of areal data.\n",
      "\n",
      "First Example where anchor applies and model predicts is_covid==True\n",
      "\n",
      "The modifiable areal ___ problem ___ MAUP ___ ___ ever ___ ___ ___ not ___ appreciated . Through ___ ___ , this ___ ___ ___ ___ ___ ___ ___ ___ ___ ___ in ___ size ___ ___ ___ ___ orientation ___ ___ categories ___ ___ ___ ___ ___ ___ data ___ The ___ ___ ___ changes ___ ___ ___ are ___ ___ though ___ impacts ___ our ___ of the ___ are profound ___ The article ___ with ___ ___ ___ ___ ___ ___ ___ approaches for ___ ___ ___ ___ ___ ___ our treatment ___ ___ ___ ___ data ___\n",
      "\n",
      "\n",
      "Example where anchor applies and model predicts is_covid==False\n",
      "\n",
      "The ___ areal ___ ___ ___ ___ ___ is ever - ___ although ___ ___ ___ . ___ ___ ___ , this ___ outlines ___ basic causes ___ MAUP ___ ___ changes in ___ size ___ ___ , and/or ___ ___ ___ ___ / ___ ___ to ___ ___ ___ ___ The visual ___ of changes to ___ data ___ obvious ___ though the impacts ___ ___ understanding ___ ___ world are profound ___ The ___ concludes ___ ___ discussion of technical and broader strategic ___ ___ ___ ___ effects of ___ ___ our ___ and ___ of ___ data .\n"
     ]
    }
   ],
   "source": [
    "print('Anchor: %s' % (' AND '.join(explanation.anchor)))\n",
    "print('Precision: %.2f' % explanation.precision)\n",
    "print(f\"\\nOriginal Sample:\\n{x_explain}\")\n",
    "print('\\nFirst Example where anchor applies and model predicts is_covid==True')\n",
    "print(f\"\\n{explanation.raw['examples'][-1]['covered_true'][0]}\".replace(\"UNK\", \"___\"))\n",
    "print('\\n\\nExample where anchor applies and model predicts is_covid==False')\n",
    "print(f\"\\n{explanation.raw['examples'][-1]['covered_false'][0]}\".replace(\"UNK\", \"___\"))"
   ]
  }
 ],
 "metadata": {
  "kernelspec": {
   "display_name": "Python 3",
   "language": "python",
   "name": "python3"
  },
  "language_info": {
   "codemirror_mode": {
    "name": "ipython",
    "version": 3
   },
   "file_extension": ".py",
   "mimetype": "text/x-python",
   "name": "python",
   "nbconvert_exporter": "python",
   "pygments_lexer": "ipython3",
   "version": "3.7.7"
  }
 },
 "nbformat": 4,
 "nbformat_minor": 4
}
