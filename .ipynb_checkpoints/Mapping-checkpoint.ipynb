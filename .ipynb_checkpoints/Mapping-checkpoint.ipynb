{
 "cells": [
  {
   "cell_type": "code",
   "execution_count": 41,
   "metadata": {},
   "outputs": [],
   "source": [
    "import pandas as pd"
   ]
  },
  {
   "cell_type": "code",
   "execution_count": 42,
   "metadata": {},
   "outputs": [],
   "source": [
    "gts = pd.read_csv(\"gts.csv\")"
   ]
  },
  {
   "cell_type": "code",
   "execution_count": null,
   "metadata": {},
   "outputs": [],
   "source": [
    "gts.shape"
   ]
  },
  {
   "cell_type": "code",
   "execution_count": 43,
   "metadata": {},
   "outputs": [],
   "source": [
    "gbs = pd.read_csv(\"gbs.csv\")"
   ]
  },
  {
   "cell_type": "code",
   "execution_count": null,
   "metadata": {},
   "outputs": [],
   "source": [
    "gbs.shape"
   ]
  },
  {
   "cell_type": "code",
   "execution_count": 44,
   "metadata": {},
   "outputs": [],
   "source": [
    "# EXECUTIVE DIRECTOR / CHIEF INNOVATION OF\n",
    "# CLIENT EXECUTIVE\n",
    "# CLIENT PARTNER\n",
    "# DIRECTOR ENTERPRISE BUSINESS\n",
    "# DIRECTOR OF ENGINEERING\n",
    "# DIRECTOR OF INFORMATION SYSREMS\n",
    "# BUSINESS RELATIONSHIP MANAGER\n",
    "# GROUP CTO \n",
    "# SENIOR MOBILE DEVELOPER\n",
    "# INNOVATION MANAGER\n",
    "# HEAD - COST & BUSINESS CHANGE MGT"
   ]
  },
  {
   "cell_type": "code",
   "execution_count": 45,
   "metadata": {},
   "outputs": [],
   "source": [
    "from fuzzywuzzy import process\n",
    "from fuzzywuzzy import fuzz"
   ]
  },
  {
   "cell_type": "code",
   "execution_count": 46,
   "metadata": {},
   "outputs": [],
   "source": [
    "def match(eachValue):\n",
    "    if fuzz.token_set_ratio(eachValue, string2search) > 90:\n",
    "        return 1\n",
    "    else:\n",
    "        return 0"
   ]
  },
  {
   "cell_type": "code",
   "execution_count": 47,
   "metadata": {},
   "outputs": [],
   "source": [
    "global string2search\n",
    "string2search = \"INNOVATION MANAGER\""
   ]
  },
  {
   "cell_type": "code",
   "execution_count": 48,
   "metadata": {},
   "outputs": [],
   "source": [
    "gts['Matched'] = gts['JOB_TITLE_clean'].apply(match)"
   ]
  },
  {
   "cell_type": "code",
   "execution_count": 56,
   "metadata": {},
   "outputs": [],
   "source": [
    "# gts[gts['Matched']==1]['JOB_TITLE_clean'].value_counts()"
   ]
  },
  {
   "cell_type": "code",
   "execution_count": 50,
   "metadata": {},
   "outputs": [
    {
     "data": {
      "text/plain": [
       "IT                    61\n",
       "Product Management     3\n",
       "IT Services            2\n",
       "Name: Job Function, dtype: int64"
      ]
     },
     "execution_count": 50,
     "metadata": {},
     "output_type": "execute_result"
    }
   ],
   "source": [
    "gts[gts['Matched']==1]['Job Function'].value_counts()"
   ]
  },
  {
   "cell_type": "code",
   "execution_count": 51,
   "metadata": {},
   "outputs": [
    {
     "data": {
      "text/plain": [
       "IT - Other Role                                      20\n",
       "IT Infrastructure and Operations                     12\n",
       "IT Program and Portfolio Management                  10\n",
       "HRIS / HR Technology                                  6\n",
       "Enterprise Architecture and Technology Innovation     4\n",
       "Product Development/Product Management                3\n",
       "IT Security and Risk Management                       3\n",
       "Strategy - Other Role                                 2\n",
       "Applications                                          2\n",
       "Research and Development                              1\n",
       "Data and Analytics                                    1\n",
       "Customer Experience                                   1\n",
       "Talent Management                                     1\n",
       "Name: RECOMMENDED_JOB_ROLE1, dtype: int64"
      ]
     },
     "execution_count": 51,
     "metadata": {},
     "output_type": "execute_result"
    }
   ],
   "source": [
    "gts[gts['Matched']==1]['RECOMMENDED_JOB_ROLE1'].value_counts()"
   ]
  },
  {
   "cell_type": "code",
   "execution_count": 52,
   "metadata": {},
   "outputs": [],
   "source": [
    "gbs['Matched'] = gbs['JOB_TITLE_clean'].apply(match)"
   ]
  },
  {
   "cell_type": "code",
   "execution_count": 57,
   "metadata": {},
   "outputs": [],
   "source": [
    "# gbs[gbs['Matched']==1]['JOB_TITLE_clean'].value_counts()"
   ]
  },
  {
   "cell_type": "code",
   "execution_count": 54,
   "metadata": {},
   "outputs": [
    {
     "data": {
      "text/plain": [
       "Research and Development            17\n",
       "Strategy                            15\n",
       "Marketing                            6\n",
       "Management / Business Consulting     3\n",
       "General Management                   2\n",
       "Professional Services                2\n",
       "Sales                                2\n",
       "Supply Chain                         2\n",
       "Finance                              1\n",
       "Customer Service and Support         1\n",
       "Audit                                1\n",
       "Name: Job Function, dtype: int64"
      ]
     },
     "execution_count": 54,
     "metadata": {},
     "output_type": "execute_result"
    }
   ],
   "source": [
    "gbs[gbs['Matched']==1]['Job Function'].value_counts()"
   ]
  },
  {
   "cell_type": "code",
   "execution_count": 55,
   "metadata": {},
   "outputs": [
    {
     "data": {
      "text/plain": [
       "IT Program and Portfolio Management                  10\n",
       "Applications                                          7\n",
       "Marketing Technology                                  4\n",
       "IT Infrastructure and Operations                      4\n",
       "Strategy - Other Role                                 3\n",
       "Enterprise Architecture and Technology Innovation     3\n",
       "Market Insights                                       3\n",
       "IT - Other Role                                       3\n",
       "HRIS / HR Technology                                  3\n",
       "Supply Chain - Other Role                             2\n",
       "Quality Management                                    2\n",
       "Data and Analytics                                    2\n",
       "Multichannel Marketing                                1\n",
       "Manufacturing Strategy and Operations                 1\n",
       "Customer Experience                                   1\n",
       "Audit                                                 1\n",
       "Research and Development                              1\n",
       "Product Development/Product Management                1\n",
       "Name: RECOMMENDED_JOB_ROLE1, dtype: int64"
      ]
     },
     "execution_count": 55,
     "metadata": {},
     "output_type": "execute_result"
    }
   ],
   "source": [
    "gbs[gbs['Matched']==1]['RECOMMENDED_JOB_ROLE1'].value_counts()"
   ]
  }
 ],
 "metadata": {
  "kernelspec": {
   "display_name": "Python 3",
   "language": "python",
   "name": "python3"
  },
  "language_info": {
   "codemirror_mode": {
    "name": "ipython",
    "version": 3
   },
   "file_extension": ".py",
   "mimetype": "text/x-python",
   "name": "python",
   "nbconvert_exporter": "python",
   "pygments_lexer": "ipython3",
   "version": "3.7.3"
  }
 },
 "nbformat": 4,
 "nbformat_minor": 4
}
